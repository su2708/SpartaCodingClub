{
 "cells": [
  {
   "cell_type": "markdown",
   "metadata": {},
   "source": [
    "## 딥러닝 2주차"
   ]
  },
  {
   "cell_type": "markdown",
   "metadata": {},
   "source": [
    "### 인공신경망"
   ]
  },
  {
   "cell_type": "code",
   "execution_count": 1,
   "metadata": {},
   "outputs": [],
   "source": [
    "import torch\n",
    "import torch.nn as nn\n",
    "import torch.optim as optim\n",
    "import torchvision\n",
    "import torchvision.transforms as transforms"
   ]
  },
  {
   "cell_type": "code",
   "execution_count": 2,
   "metadata": {},
   "outputs": [
    {
     "name": "stdout",
     "output_type": "stream",
     "text": [
      "Downloading http://yann.lecun.com/exdb/mnist/train-images-idx3-ubyte.gz\n",
      "Failed to download (trying next):\n",
      "<urlopen error [SSL: CERTIFICATE_VERIFY_FAILED] certificate verify failed: certificate has expired (_ssl.c:1133)>\n",
      "\n",
      "Downloading https://ossci-datasets.s3.amazonaws.com/mnist/train-images-idx3-ubyte.gz\n",
      "Downloading https://ossci-datasets.s3.amazonaws.com/mnist/train-images-idx3-ubyte.gz to ./data\\MNIST\\raw\\train-images-idx3-ubyte.gz\n"
     ]
    },
    {
     "name": "stderr",
     "output_type": "stream",
     "text": [
      "100%|██████████| 9912422/9912422 [00:01<00:00, 5882948.83it/s]\n"
     ]
    },
    {
     "name": "stdout",
     "output_type": "stream",
     "text": [
      "Extracting ./data\\MNIST\\raw\\train-images-idx3-ubyte.gz to ./data\\MNIST\\raw\n",
      "\n",
      "Downloading http://yann.lecun.com/exdb/mnist/train-labels-idx1-ubyte.gz\n",
      "Failed to download (trying next):\n",
      "<urlopen error [SSL: CERTIFICATE_VERIFY_FAILED] certificate verify failed: certificate has expired (_ssl.c:1133)>\n",
      "\n",
      "Downloading https://ossci-datasets.s3.amazonaws.com/mnist/train-labels-idx1-ubyte.gz\n",
      "Downloading https://ossci-datasets.s3.amazonaws.com/mnist/train-labels-idx1-ubyte.gz to ./data\\MNIST\\raw\\train-labels-idx1-ubyte.gz\n"
     ]
    },
    {
     "name": "stderr",
     "output_type": "stream",
     "text": [
      "100%|██████████| 28881/28881 [00:00<00:00, 147598.84it/s]\n"
     ]
    },
    {
     "name": "stdout",
     "output_type": "stream",
     "text": [
      "Extracting ./data\\MNIST\\raw\\train-labels-idx1-ubyte.gz to ./data\\MNIST\\raw\n",
      "\n",
      "Downloading http://yann.lecun.com/exdb/mnist/t10k-images-idx3-ubyte.gz\n",
      "Failed to download (trying next):\n",
      "<urlopen error [SSL: CERTIFICATE_VERIFY_FAILED] certificate verify failed: certificate has expired (_ssl.c:1133)>\n",
      "\n",
      "Downloading https://ossci-datasets.s3.amazonaws.com/mnist/t10k-images-idx3-ubyte.gz\n",
      "Downloading https://ossci-datasets.s3.amazonaws.com/mnist/t10k-images-idx3-ubyte.gz to ./data\\MNIST\\raw\\t10k-images-idx3-ubyte.gz\n"
     ]
    },
    {
     "name": "stderr",
     "output_type": "stream",
     "text": [
      "100%|██████████| 1648877/1648877 [00:00<00:00, 1773682.51it/s]\n"
     ]
    },
    {
     "name": "stdout",
     "output_type": "stream",
     "text": [
      "Extracting ./data\\MNIST\\raw\\t10k-images-idx3-ubyte.gz to ./data\\MNIST\\raw\n",
      "\n",
      "Downloading http://yann.lecun.com/exdb/mnist/t10k-labels-idx1-ubyte.gz\n",
      "Failed to download (trying next):\n",
      "<urlopen error [SSL: CERTIFICATE_VERIFY_FAILED] certificate verify failed: certificate has expired (_ssl.c:1133)>\n",
      "\n",
      "Downloading https://ossci-datasets.s3.amazonaws.com/mnist/t10k-labels-idx1-ubyte.gz\n",
      "Downloading https://ossci-datasets.s3.amazonaws.com/mnist/t10k-labels-idx1-ubyte.gz to ./data\\MNIST\\raw\\t10k-labels-idx1-ubyte.gz\n"
     ]
    },
    {
     "name": "stderr",
     "output_type": "stream",
     "text": [
      "100%|██████████| 4542/4542 [00:00<00:00, 2262533.11it/s]\n"
     ]
    },
    {
     "name": "stdout",
     "output_type": "stream",
     "text": [
      "Extracting ./data\\MNIST\\raw\\t10k-labels-idx1-ubyte.gz to ./data\\MNIST\\raw\n",
      "\n"
     ]
    }
   ],
   "source": [
    "# 데이터셋 전처리\n",
    "transform = transforms.Compose([\n",
    "    transforms.ToTensor(),\n",
    "    transforms.Normalize((0.5,), (0.5,))\n",
    "])\n",
    "\n",
    "# MNIST 데이터셋 로드\n",
    "trainset = torchvision.datasets.MNIST(root='./data', train=True, download=True, transform=transform)\n",
    "trainloader = torch.utils.data.DataLoader(trainset, batch_size=64, shuffle=True)\n",
    "\n",
    "testset = torchvision.datasets.MNIST(root='./data', train=False, download=True, transform=transform)\n",
    "testloader = torch.utils.data.DataLoader(testset, batch_size=64, shuffle=False)"
   ]
  },
  {
   "cell_type": "code",
   "execution_count": null,
   "metadata": {},
   "outputs": [],
   "source": [
    "import matplotlib.pyplot as plt\n",
    "\n",
    "img, label = next(iter(trainloader))\n",
    "\n",
    "plt.imshow(img[0, 0, :, :], 'gray')\n",
    "plt.title(f'{label[0]}')\n",
    "plt.show()\n"
   ]
  },
  {
   "cell_type": "code",
   "execution_count": 3,
   "metadata": {},
   "outputs": [],
   "source": [
    "class SimpleANN(nn.Module):\n",
    "    def __init__(self):\n",
    "        super(SimpleANN, self).__init__()\n",
    "        self.fc1 = nn.Linear(28 * 28, 128)  # 입력층에서 은닉층으로\n",
    "        self.fc2 = nn.Linear(128, 64)       # 은닉층에서 은닉층으로\n",
    "        self.fc3 = nn.Linear(64, 10)        # 은닉층에서 출력층으로\n",
    "\n",
    "    def forward(self, x):\n",
    "        x = x.view(-1, 28 * 28)  # 입력 이미지를 1차원 벡터로 변환\n",
    "        x = torch.relu(self.fc1(x))\n",
    "        x = torch.relu(self.fc2(x))\n",
    "        x = self.fc3(x)\n",
    "        return x"
   ]
  },
  {
   "cell_type": "code",
   "execution_count": 4,
   "metadata": {},
   "outputs": [
    {
     "name": "stdout",
     "output_type": "stream",
     "text": [
      "[Epoch 1, Batch 100] loss: 1.369\n",
      "[Epoch 1, Batch 200] loss: 0.486\n",
      "[Epoch 1, Batch 300] loss: 0.408\n",
      "[Epoch 1, Batch 400] loss: 0.353\n",
      "[Epoch 1, Batch 500] loss: 0.270\n",
      "[Epoch 1, Batch 600] loss: 0.310\n",
      "[Epoch 1, Batch 700] loss: 0.262\n",
      "[Epoch 1, Batch 800] loss: 0.227\n",
      "[Epoch 1, Batch 900] loss: 0.231\n",
      "[Epoch 2, Batch 100] loss: 0.186\n",
      "[Epoch 2, Batch 200] loss: 0.177\n",
      "[Epoch 2, Batch 300] loss: 0.183\n",
      "[Epoch 2, Batch 400] loss: 0.180\n",
      "[Epoch 2, Batch 500] loss: 0.205\n",
      "[Epoch 2, Batch 600] loss: 0.164\n",
      "[Epoch 2, Batch 700] loss: 0.166\n",
      "[Epoch 2, Batch 800] loss: 0.154\n",
      "[Epoch 2, Batch 900] loss: 0.162\n",
      "[Epoch 3, Batch 100] loss: 0.156\n",
      "[Epoch 3, Batch 200] loss: 0.132\n",
      "[Epoch 3, Batch 300] loss: 0.136\n",
      "[Epoch 3, Batch 400] loss: 0.132\n",
      "[Epoch 3, Batch 500] loss: 0.125\n",
      "[Epoch 3, Batch 600] loss: 0.139\n",
      "[Epoch 3, Batch 700] loss: 0.125\n",
      "[Epoch 3, Batch 800] loss: 0.121\n",
      "[Epoch 3, Batch 900] loss: 0.112\n",
      "[Epoch 4, Batch 100] loss: 0.106\n",
      "[Epoch 4, Batch 200] loss: 0.118\n",
      "[Epoch 4, Batch 300] loss: 0.111\n",
      "[Epoch 4, Batch 400] loss: 0.100\n",
      "[Epoch 4, Batch 500] loss: 0.111\n",
      "[Epoch 4, Batch 600] loss: 0.102\n",
      "[Epoch 4, Batch 700] loss: 0.094\n",
      "[Epoch 4, Batch 800] loss: 0.106\n",
      "[Epoch 4, Batch 900] loss: 0.114\n",
      "[Epoch 5, Batch 100] loss: 0.094\n",
      "[Epoch 5, Batch 200] loss: 0.087\n",
      "[Epoch 5, Batch 300] loss: 0.075\n",
      "[Epoch 5, Batch 400] loss: 0.089\n",
      "[Epoch 5, Batch 500] loss: 0.110\n",
      "[Epoch 5, Batch 600] loss: 0.081\n",
      "[Epoch 5, Batch 700] loss: 0.086\n",
      "[Epoch 5, Batch 800] loss: 0.083\n",
      "[Epoch 5, Batch 900] loss: 0.087\n",
      "[Epoch 6, Batch 100] loss: 0.079\n",
      "[Epoch 6, Batch 200] loss: 0.074\n",
      "[Epoch 6, Batch 300] loss: 0.083\n",
      "[Epoch 6, Batch 400] loss: 0.071\n",
      "[Epoch 6, Batch 500] loss: 0.069\n",
      "[Epoch 6, Batch 600] loss: 0.072\n",
      "[Epoch 6, Batch 700] loss: 0.079\n",
      "[Epoch 6, Batch 800] loss: 0.082\n",
      "[Epoch 6, Batch 900] loss: 0.081\n",
      "[Epoch 7, Batch 100] loss: 0.078\n",
      "[Epoch 7, Batch 200] loss: 0.071\n",
      "[Epoch 7, Batch 300] loss: 0.065\n",
      "[Epoch 7, Batch 400] loss: 0.057\n",
      "[Epoch 7, Batch 500] loss: 0.068\n",
      "[Epoch 7, Batch 600] loss: 0.066\n",
      "[Epoch 7, Batch 700] loss: 0.065\n",
      "[Epoch 7, Batch 800] loss: 0.065\n",
      "[Epoch 7, Batch 900] loss: 0.061\n",
      "[Epoch 8, Batch 100] loss: 0.054\n",
      "[Epoch 8, Batch 200] loss: 0.044\n",
      "[Epoch 8, Batch 300] loss: 0.054\n",
      "[Epoch 8, Batch 400] loss: 0.061\n",
      "[Epoch 8, Batch 500] loss: 0.061\n",
      "[Epoch 8, Batch 600] loss: 0.068\n",
      "[Epoch 8, Batch 700] loss: 0.062\n",
      "[Epoch 8, Batch 800] loss: 0.065\n",
      "[Epoch 8, Batch 900] loss: 0.055\n",
      "[Epoch 9, Batch 100] loss: 0.045\n",
      "[Epoch 9, Batch 200] loss: 0.054\n",
      "[Epoch 9, Batch 300] loss: 0.052\n",
      "[Epoch 9, Batch 400] loss: 0.056\n",
      "[Epoch 9, Batch 500] loss: 0.064\n",
      "[Epoch 9, Batch 600] loss: 0.058\n",
      "[Epoch 9, Batch 700] loss: 0.058\n",
      "[Epoch 9, Batch 800] loss: 0.052\n",
      "[Epoch 9, Batch 900] loss: 0.058\n",
      "[Epoch 10, Batch 100] loss: 0.038\n",
      "[Epoch 10, Batch 200] loss: 0.045\n",
      "[Epoch 10, Batch 300] loss: 0.049\n",
      "[Epoch 10, Batch 400] loss: 0.051\n",
      "[Epoch 10, Batch 500] loss: 0.037\n",
      "[Epoch 10, Batch 600] loss: 0.042\n",
      "[Epoch 10, Batch 700] loss: 0.044\n",
      "[Epoch 10, Batch 800] loss: 0.052\n",
      "[Epoch 10, Batch 900] loss: 0.045\n",
      "Finished Training\n"
     ]
    }
   ],
   "source": [
    "# 모델 초기화\n",
    "model = SimpleANN()\n",
    "\n",
    "# 손실 함수와 최적화 알고리즘 정의\n",
    "criterion = nn.CrossEntropyLoss()\n",
    "optimizer = optim.SGD(model.parameters(), lr=0.01, momentum=0.9)\n",
    "\n",
    "# 모델 학습\n",
    "for epoch in range(10):  # 10 에포크 동안 학습\n",
    "    running_loss = 0.0\n",
    "    for i, data in enumerate(trainloader, 0):\n",
    "        inputs, labels = data\n",
    "\n",
    "        # 기울기 초기화\n",
    "        optimizer.zero_grad()\n",
    "\n",
    "        # 순전파 + 역전파 + 최적화\n",
    "        outputs = model(inputs)\n",
    "        loss = criterion(outputs, labels)\n",
    "        loss.backward()\n",
    "        optimizer.step()\n",
    "\n",
    "        # 손실 출력\n",
    "        running_loss += loss.item()\n",
    "        if i % 100 == 99:  # 매 100 미니배치마다 출력\n",
    "            print(f'[Epoch {epoch + 1}, Batch {i + 1}] loss: {running_loss / 100:.3f}')\n",
    "            running_loss = 0.0\n",
    "\n",
    "print('Finished Training')"
   ]
  },
  {
   "cell_type": "code",
   "execution_count": 5,
   "metadata": {},
   "outputs": [
    {
     "name": "stdout",
     "output_type": "stream",
     "text": [
      "Accuracy of the network on the 10000 test images: 97.59%\n"
     ]
    }
   ],
   "source": [
    "correct = 0\n",
    "total = 0\n",
    "with torch.no_grad():\n",
    "    for data in testloader:\n",
    "        images, labels = data\n",
    "        outputs = model(images)\n",
    "        _, predicted = torch.max(outputs.data, 1)\n",
    "        total += labels.size(0)\n",
    "        correct += (predicted == labels).sum().item()\n",
    "\n",
    "print(f'Accuracy of the network on the 10000 test images: {100 * correct / total:.2f}%')\n"
   ]
  },
  {
   "cell_type": "code",
   "execution_count": null,
   "metadata": {},
   "outputs": [],
   "source": []
  }
 ],
 "metadata": {
  "kernelspec": {
   "display_name": "SpartaCodingClub",
   "language": "python",
   "name": "python3"
  },
  "language_info": {
   "codemirror_mode": {
    "name": "ipython",
    "version": 3
   },
   "file_extension": ".py",
   "mimetype": "text/x-python",
   "name": "python",
   "nbconvert_exporter": "python",
   "pygments_lexer": "ipython3",
   "version": "3.9.19"
  }
 },
 "nbformat": 4,
 "nbformat_minor": 2
}
