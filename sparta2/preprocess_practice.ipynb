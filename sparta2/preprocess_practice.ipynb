{
 "cells": [
  {
   "cell_type": "markdown",
   "metadata": {},
   "source": [
    "## 결측치 탐지"
   ]
  },
  {
   "cell_type": "code",
   "execution_count": 2,
   "metadata": {},
   "outputs": [
    {
     "name": "stdout",
     "output_type": "stream",
     "text": [
      "      이름     나이     직업\n",
      "0  False  False  False\n",
      "1  False  False  False\n",
      "2  False   True  False\n",
      "3  False  False   True \n",
      "\n",
      "이름    0\n",
      "나이    1\n",
      "직업    1\n",
      "dtype: int64\n"
     ]
    }
   ],
   "source": [
    "import pandas as pd\n",
    "\n",
    "# 예시 데이터프레임 생성\n",
    "data = {\n",
    "    '이름': ['철수', '영희', '민수', '지수'],\n",
    "    '나이': [25, 30, None, 35],\n",
    "    '직업': ['학생', '회사원', '학생', None]\n",
    "}\n",
    "df = pd.DataFrame(data)\n",
    "\n",
    "# 결측치 여부 확인\n",
    "print(df.isna(), '\\n')\n",
    "\n",
    "# 각 열별 결측치 개수 확인\n",
    "print(df.isna().sum())"
   ]
  },
  {
   "cell_type": "code",
   "execution_count": 3,
   "metadata": {},
   "outputs": [
    {
     "name": "stdout",
     "output_type": "stream",
     "text": [
      "   이름    나이   직업\n",
      "0  철수  25.0   학생\n",
      "1  영희  30.0  회사원 \n",
      "\n",
      "   이름\n",
      "0  철수\n",
      "1  영희\n",
      "2  민수\n",
      "3  지수\n"
     ]
    }
   ],
   "source": [
    "# 결측치가 있는 행 제거\n",
    "df_dropped_rows = df.dropna()\n",
    "print(df_dropped_rows, '\\n')\n",
    "\n",
    "# 결측치가 있는 열 제거\n",
    "df_dropped_columns = df.dropna(axis=1)\n",
    "print(df_dropped_columns)\n"
   ]
  },
  {
   "cell_type": "code",
   "execution_count": 4,
   "metadata": {},
   "outputs": [
    {
     "name": "stdout",
     "output_type": "stream",
     "text": [
      "   이름    나이   직업\n",
      "0  철수  25.0   학생\n",
      "1  영희  30.0  회사원\n",
      "2  민수    없음   학생\n",
      "3  지수  35.0   없음\n"
     ]
    }
   ],
   "source": [
    "# 결측치를 '없음'으로 대체\n",
    "df_filled = df.fillna('없음')\n",
    "print(df_filled)"
   ]
  },
  {
   "cell_type": "code",
   "execution_count": 5,
   "metadata": {},
   "outputs": [
    {
     "data": {
      "text/html": [
       "<div>\n",
       "<style scoped>\n",
       "    .dataframe tbody tr th:only-of-type {\n",
       "        vertical-align: middle;\n",
       "    }\n",
       "\n",
       "    .dataframe tbody tr th {\n",
       "        vertical-align: top;\n",
       "    }\n",
       "\n",
       "    .dataframe thead th {\n",
       "        text-align: right;\n",
       "    }\n",
       "</style>\n",
       "<table border=\"1\" class=\"dataframe\">\n",
       "  <thead>\n",
       "    <tr style=\"text-align: right;\">\n",
       "      <th></th>\n",
       "      <th>날짜</th>\n",
       "      <th>온도</th>\n",
       "    </tr>\n",
       "  </thead>\n",
       "  <tbody>\n",
       "    <tr>\n",
       "      <th>0</th>\n",
       "      <td>2023-01-01</td>\n",
       "      <td>20.0</td>\n",
       "    </tr>\n",
       "    <tr>\n",
       "      <th>1</th>\n",
       "      <td>2023-01-02</td>\n",
       "      <td>22.0</td>\n",
       "    </tr>\n",
       "    <tr>\n",
       "      <th>2</th>\n",
       "      <td>2023-01-03</td>\n",
       "      <td>23.0</td>\n",
       "    </tr>\n",
       "    <tr>\n",
       "      <th>3</th>\n",
       "      <td>2023-01-04</td>\n",
       "      <td>24.0</td>\n",
       "    </tr>\n",
       "    <tr>\n",
       "      <th>4</th>\n",
       "      <td>2023-01-05</td>\n",
       "      <td>25.0</td>\n",
       "    </tr>\n",
       "  </tbody>\n",
       "</table>\n",
       "</div>"
      ],
      "text/plain": [
       "          날짜    온도\n",
       "0 2023-01-01  20.0\n",
       "1 2023-01-02  22.0\n",
       "2 2023-01-03  23.0\n",
       "3 2023-01-04  24.0\n",
       "4 2023-01-05  25.0"
      ]
     },
     "execution_count": 5,
     "metadata": {},
     "output_type": "execute_result"
    }
   ],
   "source": [
    "# 예시 데이터프레임 생성\n",
    "data = {\n",
    "    '날짜': pd.date_range('2023-01-01', periods=5),\n",
    "    '온도': [20, 22, None, 24, 25]\n",
    "}\n",
    "df2 = pd.DataFrame(data)\n",
    "\n",
    "# 선형 보간법으로 결측치 채우기 (주변 값들을 기반으로 결측치를 보충)\n",
    "df2['온도'] = df2['온도'].interpolate()\n",
    "df2"
   ]
  },
  {
   "cell_type": "code",
   "execution_count": 7,
   "metadata": {},
   "outputs": [
    {
     "data": {
      "text/html": [
       "<div>\n",
       "<style scoped>\n",
       "    .dataframe tbody tr th:only-of-type {\n",
       "        vertical-align: middle;\n",
       "    }\n",
       "\n",
       "    .dataframe tbody tr th {\n",
       "        vertical-align: top;\n",
       "    }\n",
       "\n",
       "    .dataframe thead th {\n",
       "        text-align: right;\n",
       "    }\n",
       "</style>\n",
       "<table border=\"1\" class=\"dataframe\">\n",
       "  <thead>\n",
       "    <tr style=\"text-align: right;\">\n",
       "      <th></th>\n",
       "      <th>이름</th>\n",
       "      <th>나이</th>\n",
       "      <th>직업</th>\n",
       "    </tr>\n",
       "  </thead>\n",
       "  <tbody>\n",
       "    <tr>\n",
       "      <th>0</th>\n",
       "      <td>철수</td>\n",
       "      <td>25.0</td>\n",
       "      <td>학생</td>\n",
       "    </tr>\n",
       "    <tr>\n",
       "      <th>1</th>\n",
       "      <td>영희</td>\n",
       "      <td>30.0</td>\n",
       "      <td>회사원</td>\n",
       "    </tr>\n",
       "    <tr>\n",
       "      <th>2</th>\n",
       "      <td>민수</td>\n",
       "      <td>18.0</td>\n",
       "      <td>학생</td>\n",
       "    </tr>\n",
       "    <tr>\n",
       "      <th>3</th>\n",
       "      <td>지수</td>\n",
       "      <td>35.0</td>\n",
       "      <td>None</td>\n",
       "    </tr>\n",
       "  </tbody>\n",
       "</table>\n",
       "</div>"
      ],
      "text/plain": [
       "   이름    나이    직업\n",
       "0  철수  25.0    학생\n",
       "1  영희  30.0   회사원\n",
       "2  민수  18.0    학생\n",
       "3  지수  35.0  None"
      ]
     },
     "execution_count": 7,
     "metadata": {},
     "output_type": "execute_result"
    }
   ],
   "source": [
    "# 예시: '나이'가 결측치일 경우, 기본값으로 18을 채우는 함수\n",
    "def fill_missing_age(x):\n",
    "    if pd.isna(x):\n",
    "        return 18\n",
    "    return x\n",
    "\n",
    "# apply()는 결측치를 처리하는 사용자 정의 함수를 적용하는 함수\n",
    "df['나이'] = df['나이'].apply(fill_missing_age)\n",
    "df"
   ]
  }
 ],
 "metadata": {
  "kernelspec": {
   "display_name": "SpartaCodingClub",
   "language": "python",
   "name": "python3"
  },
  "language_info": {
   "codemirror_mode": {
    "name": "ipython",
    "version": 3
   },
   "file_extension": ".py",
   "mimetype": "text/x-python",
   "name": "python",
   "nbconvert_exporter": "python",
   "pygments_lexer": "ipython3",
   "version": "3.9.19"
  }
 },
 "nbformat": 4,
 "nbformat_minor": 2
}
