{
 "cells": [
  {
   "cell_type": "code",
   "execution_count": 2,
   "metadata": {},
   "outputs": [],
   "source": [
    "import numpy as np"
   ]
  },
  {
   "cell_type": "code",
   "execution_count": 3,
   "metadata": {},
   "outputs": [
    {
     "data": {
      "text/plain": [
       "array([1, 2, 3, 4, 5, 6])"
      ]
     },
     "execution_count": 3,
     "metadata": {},
     "output_type": "execute_result"
    }
   ],
   "source": [
    "arr = np.array([1, 2, 3, 4, 5, 6])\n",
    "arr"
   ]
  },
  {
   "cell_type": "code",
   "execution_count": 4,
   "metadata": {},
   "outputs": [
    {
     "data": {
      "text/plain": [
       "numpy.ndarray"
      ]
     },
     "execution_count": 4,
     "metadata": {},
     "output_type": "execute_result"
    }
   ],
   "source": [
    "type(arr)"
   ]
  },
  {
   "cell_type": "code",
   "execution_count": 5,
   "metadata": {},
   "outputs": [
    {
     "name": "stdout",
     "output_type": "stream",
     "text": [
      "'int' object is not iterable occurred!\n"
     ]
    }
   ],
   "source": [
    "try:\n",
    "    sample_list = [1, 2, 3, 4, 5, 6]\n",
    "    sample_list += 10  # 리스트 덧셈\n",
    "except Exception as e:\n",
    "    print(f\"{e} occurred!\")"
   ]
  },
  {
   "cell_type": "code",
   "execution_count": 6,
   "metadata": {},
   "outputs": [
    {
     "name": "stdout",
     "output_type": "stream",
     "text": [
      "[11 12 13 14 15 16]\n"
     ]
    }
   ],
   "source": [
    "# numpy 배열 덧셈\n",
    "arr2 = arr + 10\n",
    "print(arr2)\n"
   ]
  },
  {
   "cell_type": "code",
   "execution_count": 7,
   "metadata": {},
   "outputs": [
    {
     "name": "stdout",
     "output_type": "stream",
     "text": [
      "[0.5 1.  1.5 2.  2.5 3. ]\n",
      "Cannot cast ufunc 'divide' output from dtype('float64') to dtype('int32') with casting rule 'same_kind'\n"
     ]
    }
   ],
   "source": [
    "try:\n",
    "    arr = arr / 2  # 일반 대입 연산자는 numpy 배열에서 연산 가능\n",
    "    print(arr)\n",
    "    arr2 /= 2  # 복합 대입 연산자는 불가\n",
    "    print(arr2)\n",
    "except Exception as e:\n",
    "    print(f\"{e}\")"
   ]
  },
  {
   "cell_type": "code",
   "execution_count": 8,
   "metadata": {},
   "outputs": [
    {
     "data": {
      "text/plain": [
       "array([1, 2, 3, 4, 5, 6])"
      ]
     },
     "execution_count": 8,
     "metadata": {},
     "output_type": "execute_result"
    }
   ],
   "source": [
    "arr = np.array([1, 2, 3, 4, 5, 6])\n",
    "arr"
   ]
  },
  {
   "cell_type": "code",
   "execution_count": 9,
   "metadata": {},
   "outputs": [
    {
     "name": "stdout",
     "output_type": "stream",
     "text": [
      "[[1 2 3 4 5 6]] (6,) (1, 6)\n",
      "[[1 2 3]\n",
      " [4 5 6]]\n"
     ]
    }
   ],
   "source": [
    "# 배열의 모양 변경\n",
    "arr_reshaped = arr.reshape((1, 6))\n",
    "print(arr_reshaped, arr.shape, arr_reshaped.shape)  # arr.shape != arr_reshaped.shape\n",
    "\n",
    "arr = arr_reshaped.reshape((2, 3))\n",
    "print(arr)"
   ]
  },
  {
   "cell_type": "markdown",
   "metadata": {},
   "source": [
    "### numpy 배열의 주요 함수들"
   ]
  },
  {
   "cell_type": "code",
   "execution_count": 10,
   "metadata": {},
   "outputs": [
    {
     "name": "stdout",
     "output_type": "stream",
     "text": [
      "[[1 2 3]\n",
      " [4 5 6]]\n",
      "dimension: 2\n",
      "size: 6\n",
      "shape: (2, 3)\n",
      "data type: int32\n",
      "How many bytes for data: 24\n",
      "Transpose: [[1 4]\n",
      " [2 5]\n",
      " [3 6]]\n",
      "row sum: [5 7 9]\n",
      "column sum: [ 6 15]\n"
     ]
    }
   ],
   "source": [
    "print(arr)\n",
    "print(f\"dimension: {arr.ndim}\")\n",
    "print(f\"size: {arr.size}\")\n",
    "print(f\"shape: {arr.shape}\")\n",
    "print(f\"data type: {arr.dtype}\")\n",
    "print(f\"How many bytes for data: {arr.nbytes}\")\n",
    "print(f\"Transpose: {arr.transpose()}\")\n",
    "print(f\"row sum: {arr.sum(axis=0)}\")\n",
    "print(f\"column sum: {arr.sum(axis=1)}\")"
   ]
  },
  {
   "cell_type": "markdown",
   "metadata": {},
   "source": [
    "### 2가지 배열 평탄화 방법"
   ]
  },
  {
   "cell_type": "code",
   "execution_count": 11,
   "metadata": {},
   "outputs": [
    {
     "name": "stdout",
     "output_type": "stream",
     "text": [
      "[[1 2 3]\n",
      " [4 5 6]] \n",
      "\n",
      "[1 2 3 4 5 6] \n",
      "\n",
      "[[1 2 3]\n",
      " [4 5 6]] \n",
      "\n",
      "[1 2 3 4 5 6] \n",
      "\n",
      "[[1 2 3]\n",
      " [4 5 7]]\n"
     ]
    }
   ],
   "source": [
    " ori_arr = np.array([[1, 2, 3], [4, 5, 6]])\n",
    " print(ori_arr, \"\\n\")\n",
    " \n",
    " arr_flat = ori_arr.flatten()  # 새로운 배열의 복사본을 반환\n",
    " print(arr_flat, \"\\n\")\n",
    " print(ori_arr, \"\\n\")\n",
    " \n",
    " ori_arr[1][2] = 7\n",
    " print(arr_flat, \"\\n\")  # 'ori_arr[1][2] = 7'의 영향을 받지 않음\n",
    " print(ori_arr)"
   ]
  },
  {
   "cell_type": "code",
   "execution_count": 12,
   "metadata": {},
   "outputs": [
    {
     "name": "stdout",
     "output_type": "stream",
     "text": [
      "[[1 2 3]\n",
      " [4 5 6]] \n",
      "\n",
      "[1 2 3 4 5 6] \n",
      "\n",
      "[[1 2 3]\n",
      " [4 5 6]] \n",
      "\n",
      "[1 2 3 4 5 7] \n",
      "\n",
      "[[1 2 3]\n",
      " [4 5 7]]\n"
     ]
    }
   ],
   "source": [
    " ori_arr = np.array([[1, 2, 3], [4, 5, 6]])\n",
    " print(ori_arr, \"\\n\")\n",
    " \n",
    " arr_ravel = ori_arr.ravel()  # 가능하면 원본 배열의 뷰(view)를 반환. 원본을 그대로 사용할 수 있음\n",
    " print(arr_ravel, \"\\n\")\n",
    " print(ori_arr, \"\\n\")\n",
    " \n",
    " ori_arr[1][2] = 7\n",
    " print(arr_ravel, \"\\n\")  # 'ori_arr[1][2] = 7'의 영향을 받음\n",
    " print(ori_arr)"
   ]
  },
  {
   "cell_type": "markdown",
   "metadata": {},
   "source": [
    "### 다양한 형태의 배열 생성"
   ]
  },
  {
   "cell_type": "code",
   "execution_count": 13,
   "metadata": {},
   "outputs": [
    {
     "name": "stdout",
     "output_type": "stream",
     "text": [
      "make new zero array: [[0. 0.]\n",
      " [0. 0.]\n",
      " [0. 0.]]\n",
      "make new array which is filled ones: [[1. 1.]\n",
      " [1. 1.]\n",
      " [1. 1.]]\n",
      "make new array which is filled you want: [[7 7]\n",
      " [7 7]\n",
      " [7 7]]\n",
      "from 0 to 9: [0 1 2 3 4 5 6 7 8 9]\n"
     ]
    }
   ],
   "source": [
    "print(f\"make new zero array: {np.zeros((3, 2))}\")\n",
    "print(f\"make new array which is filled ones: {np.ones((3, 2))}\")\n",
    "print(f\"make new array which is filled you want: {np.full((3, 2), 7)}\")\n",
    "print(f\"from 0 to 9: {np.arange(10)}\")"
   ]
  },
  {
   "cell_type": "markdown",
   "metadata": {},
   "source": [
    "### numpy 배열의 기초 연산"
   ]
  },
  {
   "cell_type": "code",
   "execution_count": 14,
   "metadata": {},
   "outputs": [
    {
     "name": "stdout",
     "output_type": "stream",
     "text": [
      "[ 2  5  8  6  9 12]\n",
      "[ 2  4  6  8 10 12]\n",
      "[ 1  6 15  8 20 36]\n"
     ]
    }
   ],
   "source": [
    "# 사칙연산 방식\n",
    "\n",
    "arr1 = np.array([1, 2, 3, 4, 5, 6])\n",
    "arr2 = np.array([1, 3, 5, 2, 4, 6])\n",
    "\n",
    "arr_add = arr1 + arr2\n",
    "print(arr_add)\n",
    "\n",
    "arr_mul2 = arr1 * 2\n",
    "print(arr_mul2)\n",
    "\n",
    "arr_mul = arr1 * arr2  # 각 자리에 맞는 원소끼리 곱셈 (element-wise)\n",
    "print(arr_mul)"
   ]
  },
  {
   "cell_type": "code",
   "execution_count": 15,
   "metadata": {},
   "outputs": [
    {
     "name": "stdout",
     "output_type": "stream",
     "text": [
      "[[ 1  6 15]\n",
      " [ 8 20 36]]\n"
     ]
    }
   ],
   "source": [
    "arr1 = arr1.reshape((2, 3))\n",
    "arr2 = arr2.reshape((2, 3))\n",
    "\n",
    "arr_mul = arr1 * arr2  # element-wise (행렬 곱이 아님!)\n",
    "print(arr_mul)"
   ]
  },
  {
   "cell_type": "code",
   "execution_count": 21,
   "metadata": {},
   "outputs": [
    {
     "name": "stdout",
     "output_type": "stream",
     "text": [
      "[[ 2  5  8]\n",
      " [ 6  9 12]]\n",
      "[[ 0 -1 -2]\n",
      " [ 2  1  0]]\n",
      "[[ 1  6 15]\n",
      " [ 8 20 36]]\n",
      "[[1 0 0]\n",
      " [2 1 1]]\n",
      "[[0 2 3]\n",
      " [0 1 0]]\n"
     ]
    }
   ],
   "source": [
    "# numpy 함수를 사용하는 방식\n",
    "\n",
    "print(np.add(arr1, arr2))\n",
    "print(np.subtract(arr1, arr2))\n",
    "print(np.multiply(arr1, arr2))\n",
    "print(np.floor_divide(arr1, arr2))  # arr1/arr2 하고 나머지 값 버림\n",
    "print(np.mod(arr1, arr2))  # arr1/arr2 의 나머지"
   ]
  },
  {
   "cell_type": "markdown",
   "metadata": {},
   "source": [
    "### 행렬 곱"
   ]
  },
  {
   "cell_type": "code",
   "execution_count": 17,
   "metadata": {},
   "outputs": [
    {
     "name": "stdout",
     "output_type": "stream",
     "text": [
      "[[ 58  64]\n",
      " [139 154]] \n",
      "\n",
      "[[ 58  64]\n",
      " [139 154]] \n",
      "\n",
      "[[ 58  64]\n",
      " [139 154]]\n"
     ]
    }
   ],
   "source": [
    "# (2, 3) 배열\n",
    "A = np.array([[1, 2, 3], [4, 5, 6]])\n",
    "\n",
    "# (3, 2) 배열\n",
    "B = np.array([[7, 8], [9, 10], [11, 12]])\n",
    "\n",
    "# 행렬 곱 (dot product)\n",
    "result = np.dot(A, B)\n",
    "\n",
    "# 또는 @ 연산자 사용\n",
    "result_alt = A @ B\n",
    "\n",
    "# 또는 np.matmul() 사용\n",
    "result_matmul = np.matmul(A, B)  # np.dot(), @와 달리 np.matmul()은 다차원 배열에서도 사용 가능\n",
    "\n",
    "print(result, \"\\n\")\n",
    "print(result_alt, \"\\n\")\n",
    "print(result_matmul)"
   ]
  },
  {
   "cell_type": "code",
   "execution_count": null,
   "metadata": {},
   "outputs": [],
   "source": []
  }
 ],
 "metadata": {
  "kernelspec": {
   "display_name": "SpartaCodingClub",
   "language": "python",
   "name": "python3"
  },
  "language_info": {
   "codemirror_mode": {
    "name": "ipython",
    "version": 3
   },
   "file_extension": ".py",
   "mimetype": "text/x-python",
   "name": "python",
   "nbconvert_exporter": "python",
   "pygments_lexer": "ipython3",
   "version": "3.9.19"
  }
 },
 "nbformat": 4,
 "nbformat_minor": 2
}
