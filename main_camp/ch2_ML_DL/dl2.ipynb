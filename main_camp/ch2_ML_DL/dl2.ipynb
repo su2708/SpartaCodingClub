{
 "cells": [
  {
   "cell_type": "markdown",
   "metadata": {},
   "source": [
    "## 딥러닝 2주차"
   ]
  },
  {
   "cell_type": "markdown",
   "metadata": {},
   "source": [
    "### 인공신경망(ANN)"
   ]
  },
  {
   "cell_type": "code",
   "execution_count": 1,
   "metadata": {},
   "outputs": [],
   "source": [
    "import torch\n",
    "import torch.nn as nn\n",
    "import torch.optim as optim\n",
    "import torchvision\n",
    "import torchvision.transforms as transforms"
   ]
  },
  {
   "cell_type": "code",
   "execution_count": 2,
   "metadata": {},
   "outputs": [],
   "source": [
    "# 데이터셋 전처리\n",
    "transform = transforms.Compose([\n",
    "    transforms.ToTensor(),\n",
    "    transforms.Normalize((0.5,), (0.5,))\n",
    "])\n",
    "\n",
    "# MNIST 데이터셋 로드\n",
    "trainset = torchvision.datasets.MNIST(root='./data', train=True, download=True, transform=transform)\n",
    "trainloader = torch.utils.data.DataLoader(trainset, batch_size=64, shuffle=True)\n",
    "\n",
    "testset = torchvision.datasets.MNIST(root='./data', train=False, download=True, transform=transform)\n",
    "testloader = torch.utils.data.DataLoader(testset, batch_size=64, shuffle=False)"
   ]
  },
  {
   "cell_type": "code",
   "execution_count": null,
   "metadata": {},
   "outputs": [],
   "source": [
    "import matplotlib.pyplot as plt\n",
    "\n",
    "img, label = next(iter(trainloader))\n",
    "\n",
    "plt.imshow(img[0, 0, :, :], 'gray')\n",
    "plt.title(f'{label[0]}')\n",
    "plt.show()\n"
   ]
  },
  {
   "cell_type": "code",
   "execution_count": 4,
   "metadata": {},
   "outputs": [],
   "source": [
    "class SimpleANN(nn.Module):\n",
    "    def __init__(self):\n",
    "        super(SimpleANN, self).__init__()\n",
    "        self.fc1 = nn.Linear(28 * 28, 128)  # 입력층에서 은닉층으로\n",
    "        self.fc2 = nn.Linear(128, 64)       # 은닉층에서 은닉층으로\n",
    "        self.fc3 = nn.Linear(64, 10)        # 은닉층에서 출력층으로\n",
    "\n",
    "    def forward(self, x):\n",
    "        x = x.view(-1, 28 * 28)  # 입력 이미지를 1차원 벡터로 변환\n",
    "        x = torch.relu(self.fc1(x))\n",
    "        x = torch.relu(self.fc2(x))\n",
    "        x = self.fc3(x)\n",
    "        return x"
   ]
  },
  {
   "cell_type": "code",
   "execution_count": 5,
   "metadata": {},
   "outputs": [
    {
     "name": "stdout",
     "output_type": "stream",
     "text": [
      "[Epoch 1, Batch 100] loss: 1.369\n",
      "[Epoch 1, Batch 200] loss: 0.502\n",
      "[Epoch 1, Batch 300] loss: 0.378\n",
      "[Epoch 1, Batch 400] loss: 0.348\n",
      "[Epoch 1, Batch 500] loss: 0.296\n",
      "[Epoch 1, Batch 600] loss: 0.276\n",
      "[Epoch 1, Batch 700] loss: 0.264\n",
      "[Epoch 1, Batch 800] loss: 0.247\n",
      "[Epoch 1, Batch 900] loss: 0.231\n",
      "[Epoch 2, Batch 100] loss: 0.198\n",
      "[Epoch 2, Batch 200] loss: 0.208\n",
      "[Epoch 2, Batch 300] loss: 0.189\n",
      "[Epoch 2, Batch 400] loss: 0.183\n",
      "[Epoch 2, Batch 500] loss: 0.180\n",
      "[Epoch 2, Batch 600] loss: 0.176\n",
      "[Epoch 2, Batch 700] loss: 0.180\n",
      "[Epoch 2, Batch 800] loss: 0.158\n",
      "[Epoch 2, Batch 900] loss: 0.148\n",
      "[Epoch 3, Batch 100] loss: 0.132\n",
      "[Epoch 3, Batch 200] loss: 0.146\n",
      "[Epoch 3, Batch 300] loss: 0.141\n",
      "[Epoch 3, Batch 400] loss: 0.132\n",
      "[Epoch 3, Batch 500] loss: 0.134\n",
      "[Epoch 3, Batch 600] loss: 0.124\n",
      "[Epoch 3, Batch 700] loss: 0.127\n",
      "[Epoch 3, Batch 800] loss: 0.120\n",
      "[Epoch 3, Batch 900] loss: 0.131\n",
      "[Epoch 4, Batch 100] loss: 0.112\n",
      "[Epoch 4, Batch 200] loss: 0.108\n",
      "[Epoch 4, Batch 300] loss: 0.119\n",
      "[Epoch 4, Batch 400] loss: 0.106\n",
      "[Epoch 4, Batch 500] loss: 0.109\n",
      "[Epoch 4, Batch 600] loss: 0.093\n",
      "[Epoch 4, Batch 700] loss: 0.108\n",
      "[Epoch 4, Batch 800] loss: 0.095\n",
      "[Epoch 4, Batch 900] loss: 0.097\n",
      "[Epoch 5, Batch 100] loss: 0.091\n",
      "[Epoch 5, Batch 200] loss: 0.098\n",
      "[Epoch 5, Batch 300] loss: 0.097\n",
      "[Epoch 5, Batch 400] loss: 0.087\n",
      "[Epoch 5, Batch 500] loss: 0.085\n",
      "[Epoch 5, Batch 600] loss: 0.089\n",
      "[Epoch 5, Batch 700] loss: 0.082\n",
      "[Epoch 5, Batch 800] loss: 0.083\n",
      "[Epoch 5, Batch 900] loss: 0.095\n",
      "[Epoch 6, Batch 100] loss: 0.079\n",
      "[Epoch 6, Batch 200] loss: 0.078\n",
      "[Epoch 6, Batch 300] loss: 0.072\n",
      "[Epoch 6, Batch 400] loss: 0.086\n",
      "[Epoch 6, Batch 500] loss: 0.075\n",
      "[Epoch 6, Batch 600] loss: 0.077\n",
      "[Epoch 6, Batch 700] loss: 0.079\n",
      "[Epoch 6, Batch 800] loss: 0.069\n",
      "[Epoch 6, Batch 900] loss: 0.068\n",
      "[Epoch 7, Batch 100] loss: 0.063\n",
      "[Epoch 7, Batch 200] loss: 0.072\n",
      "[Epoch 7, Batch 300] loss: 0.061\n",
      "[Epoch 7, Batch 400] loss: 0.071\n",
      "[Epoch 7, Batch 500] loss: 0.071\n",
      "[Epoch 7, Batch 600] loss: 0.070\n",
      "[Epoch 7, Batch 700] loss: 0.060\n",
      "[Epoch 7, Batch 800] loss: 0.073\n",
      "[Epoch 7, Batch 900] loss: 0.067\n",
      "[Epoch 8, Batch 100] loss: 0.056\n",
      "[Epoch 8, Batch 200] loss: 0.062\n",
      "[Epoch 8, Batch 300] loss: 0.058\n",
      "[Epoch 8, Batch 400] loss: 0.069\n",
      "[Epoch 8, Batch 500] loss: 0.063\n",
      "[Epoch 8, Batch 600] loss: 0.059\n",
      "[Epoch 8, Batch 700] loss: 0.063\n",
      "[Epoch 8, Batch 800] loss: 0.055\n",
      "[Epoch 8, Batch 900] loss: 0.070\n",
      "[Epoch 9, Batch 100] loss: 0.058\n",
      "[Epoch 9, Batch 200] loss: 0.053\n",
      "[Epoch 9, Batch 300] loss: 0.053\n",
      "[Epoch 9, Batch 400] loss: 0.051\n",
      "[Epoch 9, Batch 500] loss: 0.055\n",
      "[Epoch 9, Batch 600] loss: 0.044\n",
      "[Epoch 9, Batch 700] loss: 0.051\n",
      "[Epoch 9, Batch 800] loss: 0.054\n",
      "[Epoch 9, Batch 900] loss: 0.057\n",
      "[Epoch 10, Batch 100] loss: 0.042\n",
      "[Epoch 10, Batch 200] loss: 0.059\n",
      "[Epoch 10, Batch 300] loss: 0.044\n",
      "[Epoch 10, Batch 400] loss: 0.041\n",
      "[Epoch 10, Batch 500] loss: 0.041\n",
      "[Epoch 10, Batch 600] loss: 0.045\n",
      "[Epoch 10, Batch 700] loss: 0.049\n",
      "[Epoch 10, Batch 800] loss: 0.054\n",
      "[Epoch 10, Batch 900] loss: 0.063\n",
      "Finished Training\n"
     ]
    }
   ],
   "source": [
    "# 모델 초기화\n",
    "model = SimpleANN()\n",
    "\n",
    "# 손실 함수와 최적화 알고리즘 정의\n",
    "criterion = nn.CrossEntropyLoss()\n",
    "optimizer = optim.SGD(model.parameters(), lr=0.01, momentum=0.9)\n",
    "\n",
    "# 모델 학습\n",
    "for epoch in range(10):  # 10 에포크 동안 학습\n",
    "    running_loss = 0.0\n",
    "    for i, data in enumerate(trainloader, 0):\n",
    "        inputs, labels = data\n",
    "\n",
    "        # 기울기 초기화\n",
    "        optimizer.zero_grad()\n",
    "\n",
    "        # 순전파 + 역전파 + 최적화\n",
    "        outputs = model(inputs)\n",
    "        loss = criterion(outputs, labels)\n",
    "        loss.backward()\n",
    "        optimizer.step()\n",
    "\n",
    "        # 손실 출력\n",
    "        running_loss += loss.item()\n",
    "        if i % 100 == 99:  # 매 100 미니배치마다 출력\n",
    "            print(f'[Epoch {epoch + 1}, Batch {i + 1}] loss: {running_loss / 100:.3f}')\n",
    "            running_loss = 0.0\n",
    "\n",
    "print('Finished Training')"
   ]
  },
  {
   "cell_type": "code",
   "execution_count": 6,
   "metadata": {},
   "outputs": [
    {
     "name": "stdout",
     "output_type": "stream",
     "text": [
      "Accuracy of the network on the 10000 test images: 97.71%\n"
     ]
    }
   ],
   "source": [
    "correct = 0\n",
    "total = 0\n",
    "with torch.no_grad():\n",
    "    for data in testloader:\n",
    "        images, labels = data\n",
    "        outputs = model(images)\n",
    "        _, predicted = torch.max(outputs.data, 1)\n",
    "        total += labels.size(0)\n",
    "        correct += (predicted == labels).sum().item()\n",
    "\n",
    "print(f'Accuracy of the network on the 10000 test images: {100 * correct / total:.2f}%')\n"
   ]
  },
  {
   "cell_type": "markdown",
   "metadata": {},
   "source": [
    "### 합성곱 신경망(CNN)"
   ]
  },
  {
   "cell_type": "code",
   "execution_count": 7,
   "metadata": {},
   "outputs": [
    {
     "name": "stdout",
     "output_type": "stream",
     "text": [
      "Files already downloaded and verified\n",
      "Files already downloaded and verified\n"
     ]
    }
   ],
   "source": [
    "# 데이터셋 전처리\n",
    "transform = transforms.Compose([\n",
    "    transforms.ToTensor(),\n",
    "    transforms.Normalize((0.5, 0.5, 0.5), (0.5, 0.5, 0.5))\n",
    "])\n",
    "\n",
    "# CIFAR-10 데이터셋 로드\n",
    "trainset = torchvision.datasets.CIFAR10(root='./data', train=True, download=True, transform=transform)\n",
    "trainloader = torch.utils.data.DataLoader(trainset, batch_size=64, shuffle=True)\n",
    "\n",
    "testset = torchvision.datasets.CIFAR10(root='./data', train=False, download=True, transform=transform)\n",
    "testloader = torch.utils.data.DataLoader(testset, batch_size=64, shuffle=False)"
   ]
  },
  {
   "cell_type": "code",
   "execution_count": null,
   "metadata": {},
   "outputs": [],
   "source": [
    "import matplotlib.pyplot as plt\n",
    "import numpy as np\n",
    "\n",
    "# CIFAR-10의 클래스 이름\n",
    "classes = ['airplane', 'automobile', 'bird', 'cat', 'deer', 'dog', 'frog', 'horse', 'ship', 'truck']\n",
    "\n",
    "img, label = next(iter(trainloader))\n",
    "\n",
    "# 첫 번째 이미지의 채널 순서를 (채널, 높이, 너비) -> (높이, 너비, 채널)로 변환\n",
    "img = np.transpose(img[0], (1, 2, 0))  # (32, 32, 3)\n",
    "\n",
    "plt.imshow(img)\n",
    "plt.title(f'{classes[label[0]]}')\n",
    "plt.show()"
   ]
  },
  {
   "cell_type": "code",
   "execution_count": 9,
   "metadata": {},
   "outputs": [],
   "source": [
    "class SimpleCNN(nn.Module):\n",
    "    def __init__(self):\n",
    "        super(SimpleCNN, self).__init__()\n",
    "        self.conv1 = nn.Conv2d(3, 32, 3, padding=1)  # 입력 채널 3, 출력 채널 32, 커널 크기 3x3\n",
    "        self.pool = nn.MaxPool2d(2, 2)               # 풀링 크기 2x2\n",
    "        self.conv2 = nn.Conv2d(32, 64, 3, padding=1) # 입력 채널 32, 출력 채널 64, 커널 크기 3x3\n",
    "        self.fc1 = nn.Linear(64 * 8 * 8, 512)        # 완전 연결 층\n",
    "        self.fc2 = nn.Linear(512, 10)                # 출력 층 (10개의 클래스)\n",
    "\n",
    "    def forward(self, x):\n",
    "        x = self.pool(torch.relu(self.conv1(x)))\n",
    "        x = self.pool(torch.relu(self.conv2(x)))\n",
    "        x = x.view(-1, 64 * 8 * 8)  # 플래튼\n",
    "        x = torch.relu(self.fc1(x))\n",
    "        x = self.fc2(x)\n",
    "        return x"
   ]
  },
  {
   "cell_type": "code",
   "execution_count": 10,
   "metadata": {},
   "outputs": [
    {
     "name": "stdout",
     "output_type": "stream",
     "text": [
      "[Epoch 1, Batch 100] loss: 2.108\n",
      "[Epoch 1, Batch 200] loss: 1.773\n",
      "[Epoch 1, Batch 300] loss: 1.581\n",
      "[Epoch 1, Batch 400] loss: 1.478\n",
      "[Epoch 1, Batch 500] loss: 1.413\n",
      "[Epoch 1, Batch 600] loss: 1.337\n",
      "[Epoch 1, Batch 700] loss: 1.279\n",
      "[Epoch 2, Batch 100] loss: 1.153\n",
      "[Epoch 2, Batch 200] loss: 1.137\n",
      "[Epoch 2, Batch 300] loss: 1.099\n",
      "[Epoch 2, Batch 400] loss: 1.075\n",
      "[Epoch 2, Batch 500] loss: 1.045\n",
      "[Epoch 2, Batch 600] loss: 1.037\n",
      "[Epoch 2, Batch 700] loss: 0.998\n",
      "[Epoch 3, Batch 100] loss: 0.885\n",
      "[Epoch 3, Batch 200] loss: 0.886\n",
      "[Epoch 3, Batch 300] loss: 0.876\n",
      "[Epoch 3, Batch 400] loss: 0.885\n",
      "[Epoch 3, Batch 500] loss: 0.857\n",
      "[Epoch 3, Batch 600] loss: 0.847\n",
      "[Epoch 3, Batch 700] loss: 0.837\n",
      "[Epoch 4, Batch 100] loss: 0.735\n",
      "[Epoch 4, Batch 200] loss: 0.715\n",
      "[Epoch 4, Batch 300] loss: 0.718\n",
      "[Epoch 4, Batch 400] loss: 0.700\n",
      "[Epoch 4, Batch 500] loss: 0.687\n",
      "[Epoch 4, Batch 600] loss: 0.699\n",
      "[Epoch 4, Batch 700] loss: 0.708\n",
      "[Epoch 5, Batch 100] loss: 0.565\n",
      "[Epoch 5, Batch 200] loss: 0.556\n",
      "[Epoch 5, Batch 300] loss: 0.580\n",
      "[Epoch 5, Batch 400] loss: 0.554\n",
      "[Epoch 5, Batch 500] loss: 0.557\n",
      "[Epoch 5, Batch 600] loss: 0.547\n",
      "[Epoch 5, Batch 700] loss: 0.576\n",
      "[Epoch 6, Batch 100] loss: 0.390\n",
      "[Epoch 6, Batch 200] loss: 0.401\n",
      "[Epoch 6, Batch 300] loss: 0.396\n",
      "[Epoch 6, Batch 400] loss: 0.419\n",
      "[Epoch 6, Batch 500] loss: 0.409\n",
      "[Epoch 6, Batch 600] loss: 0.444\n",
      "[Epoch 6, Batch 700] loss: 0.448\n",
      "[Epoch 7, Batch 100] loss: 0.254\n",
      "[Epoch 7, Batch 200] loss: 0.259\n",
      "[Epoch 7, Batch 300] loss: 0.263\n",
      "[Epoch 7, Batch 400] loss: 0.272\n",
      "[Epoch 7, Batch 500] loss: 0.303\n",
      "[Epoch 7, Batch 600] loss: 0.306\n",
      "[Epoch 7, Batch 700] loss: 0.299\n",
      "[Epoch 8, Batch 100] loss: 0.157\n",
      "[Epoch 8, Batch 200] loss: 0.149\n",
      "[Epoch 8, Batch 300] loss: 0.158\n",
      "[Epoch 8, Batch 400] loss: 0.172\n",
      "[Epoch 8, Batch 500] loss: 0.178\n",
      "[Epoch 8, Batch 600] loss: 0.188\n",
      "[Epoch 8, Batch 700] loss: 0.205\n",
      "[Epoch 9, Batch 100] loss: 0.088\n",
      "[Epoch 9, Batch 200] loss: 0.091\n",
      "[Epoch 9, Batch 300] loss: 0.086\n",
      "[Epoch 9, Batch 400] loss: 0.099\n",
      "[Epoch 9, Batch 500] loss: 0.106\n",
      "[Epoch 9, Batch 600] loss: 0.118\n",
      "[Epoch 9, Batch 700] loss: 0.133\n",
      "[Epoch 10, Batch 100] loss: 0.064\n",
      "[Epoch 10, Batch 200] loss: 0.056\n",
      "[Epoch 10, Batch 300] loss: 0.054\n",
      "[Epoch 10, Batch 400] loss: 0.060\n",
      "[Epoch 10, Batch 500] loss: 0.062\n",
      "[Epoch 10, Batch 600] loss: 0.079\n",
      "[Epoch 10, Batch 700] loss: 0.095\n",
      "Finished Training\n"
     ]
    }
   ],
   "source": [
    "# 모델 초기화\n",
    "model_cnn = SimpleCNN()\n",
    "\n",
    "# 손실 함수와 최적화 알고리즘 정의\n",
    "criterion = nn.CrossEntropyLoss()\n",
    "optimizer = optim.SGD(model_cnn.parameters(), lr=0.01, momentum=0.9)\n",
    "\n",
    "# 모델 학습\n",
    "for epoch in range(10):  # 10 에포크 동안 학습\n",
    "    running_loss = 0.0\n",
    "    for i, data in enumerate(trainloader, 0):\n",
    "        inputs, labels = data\n",
    "\n",
    "        # 기울기 초기화\n",
    "        optimizer.zero_grad()\n",
    "\n",
    "        # 순전파 + 역전파 + 최적화\n",
    "        outputs = model_cnn(inputs)\n",
    "        loss = criterion(outputs, labels)\n",
    "        loss.backward()\n",
    "        optimizer.step()\n",
    "\n",
    "        # 손실 출력\n",
    "        running_loss += loss.item()\n",
    "        if i % 100 == 99:  # 매 100 미니배치마다 출력\n",
    "            print(f'[Epoch {epoch + 1}, Batch {i + 1}] loss: {running_loss / 100:.3f}')\n",
    "            running_loss = 0.0\n",
    "\n",
    "print('Finished Training')"
   ]
  },
  {
   "cell_type": "code",
   "execution_count": 11,
   "metadata": {},
   "outputs": [
    {
     "name": "stdout",
     "output_type": "stream",
     "text": [
      "Accuracy of the network on the 10000 test images: 73.27%\n"
     ]
    }
   ],
   "source": [
    "correct = 0\n",
    "total = 0\n",
    "with torch.no_grad():\n",
    "    for data in testloader:\n",
    "        images, labels = data\n",
    "        outputs = model_cnn(images)\n",
    "        _, predicted = torch.max(outputs.data, 1)\n",
    "        total += labels.size(0)\n",
    "        correct += (predicted == labels).sum().item()\n",
    "\n",
    "print(f'Accuracy of the network on the 10000 test images: {100 * correct / total:.2f}%')\n"
   ]
  }
 ],
 "metadata": {
  "kernelspec": {
   "display_name": "SpartaCodingClub",
   "language": "python",
   "name": "python3"
  },
  "language_info": {
   "codemirror_mode": {
    "name": "ipython",
    "version": 3
   },
   "file_extension": ".py",
   "mimetype": "text/x-python",
   "name": "python",
   "nbconvert_exporter": "python",
   "pygments_lexer": "ipython3",
   "version": "3.9.19"
  }
 },
 "nbformat": 4,
 "nbformat_minor": 2
}
