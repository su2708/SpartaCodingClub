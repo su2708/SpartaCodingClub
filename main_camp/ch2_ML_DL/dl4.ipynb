{
 "cells": [
  {
   "cell_type": "markdown",
   "metadata": {},
   "source": [
    "## 딥러닝 4주차"
   ]
  },
  {
   "cell_type": "markdown",
   "metadata": {},
   "source": [
    "### ResNet"
   ]
  },
  {
   "cell_type": "code",
   "execution_count": 1,
   "metadata": {},
   "outputs": [],
   "source": [
    "import torch\n",
    "import torch.nn as nn\n",
    "import torch.nn.functional as F\n",
    "\n",
    "class Block(nn.Module):\n",
    "    def __init__(self, in_ch, out_ch, stride=1):\n",
    "        super(Block, self).__init__()\n",
    "        # 첫 번째 컨볼루션 레이어\n",
    "        self.conv1 = nn.Conv2d(in_ch, out_ch, kernel_size=3, stride=stride, padding=1, bias=False)\n",
    "        self.bn1 = nn.BatchNorm2d(out_ch)  # 배치 정규화\n",
    "        # 두 번째 컨볼루션 레이어\n",
    "        self.conv2 = nn.Conv2d(out_ch, out_ch, kernel_size=3, stride=1, padding=1, bias=False)\n",
    "        self.bn2 = nn.BatchNorm2d(out_ch)  # 배치 정규화\n",
    "\n",
    "        # 입력과 출력의 차원이 다를 경우 shortcut 경로 정의\n",
    "        self.skip_connection = nn.Sequential()\n",
    "        if stride != 1 or in_ch != out_ch:\n",
    "            self.skip_connection = nn.Sequential(\n",
    "                nn.Conv2d(in_ch, out_ch, kernel_size=1, stride=stride, bias=False),  # 차원 맞추기 위한 1x1 컨볼루션\n",
    "                nn.BatchNorm2d(out_ch)  # 배치 정규화\n",
    "            )\n",
    "        \n",
    "    def forward(self, x):\n",
    "        # 첫 번째 컨볼루션 + ReLU 활성화 함수\n",
    "        output = F.relu(self.bn1(self.conv1(x)))\n",
    "        # 두 번째 컨볼루션 후 배치 정규화\n",
    "        output = self.bn2(self.conv2(output))\n",
    "        # shortcut 경로 출력과 현재 블록의 출력 더하기\n",
    "        output += self.skip_connection(x)\n",
    "        # 최종 ReLU 활성화 함수 적용\n",
    "        output = F.relu(output)\n",
    "        return output\n",
    "\n",
    "# ResNet 모델 정의\n",
    "class CustomResNet(nn.Module):\n",
    "    def __init__(self, block, layers, num_classes=10):\n",
    "        super(CustomResNet, self).__init__()\n",
    "        self.initial_channels = 64  # 첫 번째 레이어의 입력 채널 수 정의\n",
    "        # 첫 번째 컨볼루션 레이어\n",
    "        self.conv1 = nn.Conv2d(3, 64, kernel_size=3, stride=1, padding=1, bias=False)\n",
    "        self.bn1 = nn.BatchNorm2d(64)  # 배치 정규화\n",
    "        # ResNet의 각 레이어 생성\n",
    "        self.layer1 = self._create_layer(block, 64, layers[0], stride=1)\n",
    "        self.layer2 = self._create_layer(block, 128, layers[1], stride=2)\n",
    "        self.layer3 = self._create_layer(block, 256, layers[2], stride=2)\n",
    "        self.layer4 = self._create_layer(block, 512, layers[3], stride=2)\n",
    "        # 평균 풀링 레이어\n",
    "        self.avgpool = nn.AdaptiveAvgPool2d((1, 1))\n",
    "        # 최종 완전 연결 레이어\n",
    "        self.fc = nn.Linear(512, num_classes)\n",
    "        \n",
    "    # ResNet의 각 레이어를 생성하는 함수\n",
    "    def _create_layer(self, block, out_ch, num_layers, stride):\n",
    "        layer_list = []\n",
    "        # 첫 번째 블록은 stride를 받을 수 있음\n",
    "        layer_list.append(block(self.initial_channels, out_ch, stride))\n",
    "        self.initial_channels = out_ch  # 다음 블록을 위해 채널 수 업데이트\n",
    "        # 나머지 블록들은 기본 stride를 사용\n",
    "        for _ in range(1, num_layers):\n",
    "            layer_list.append(block(out_ch, out_ch))\n",
    "        return nn.Sequential(*layer_list)\n",
    "    \n",
    "    def forward(self, x):\n",
    "        # 첫 번째 컨볼루션 + ReLU 활성화 함수\n",
    "        x = F.relu(self.bn1(self.conv1(x)))\n",
    "        # 각 레이어를 순차적으로 통과\n",
    "        x = self.layer1(x)\n",
    "        x = self.layer2(x)\n",
    "        x = self.layer3(x)\n",
    "        x = self.layer4(x)\n",
    "        # 평균 풀링 및 텐서의 차원 축소\n",
    "        x = self.avgpool(x)\n",
    "        x = torch.flatten(x, 1)\n",
    "        # 최종 완전 연결 레이어를 통해 클래스별 예측값 출력\n",
    "        x = self.fc(x)\n",
    "        return x\n",
    "\n",
    "# Custom ResNet-18 모델 생성 (각 레이어의 블록 수는 2개씩)\n",
    "model = CustomResNet(Block, [2, 2, 2, 2], num_classes=10)\n"
   ]
  },
  {
   "cell_type": "code",
   "execution_count": null,
   "metadata": {},
   "outputs": [],
   "source": []
  }
 ],
 "metadata": {
  "kernelspec": {
   "display_name": "SpartaCodingClub",
   "language": "python",
   "name": "python3"
  },
  "language_info": {
   "codemirror_mode": {
    "name": "ipython",
    "version": 3
   },
   "file_extension": ".py",
   "mimetype": "text/x-python",
   "name": "python",
   "nbconvert_exporter": "python",
   "pygments_lexer": "ipython3",
   "version": "3.9.19"
  }
 },
 "nbformat": 4,
 "nbformat_minor": 2
}
