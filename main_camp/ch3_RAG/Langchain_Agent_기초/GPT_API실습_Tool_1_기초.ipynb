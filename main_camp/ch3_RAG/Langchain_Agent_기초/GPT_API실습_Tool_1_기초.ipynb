{
 "cells": [
  {
   "cell_type": "markdown",
   "metadata": {},
   "source": [
    "**스타트캠프 교육 자료 저작권 및 사용 제한 안내**\n",
    "- `스타트캠프 교육 자료의 모든 권리는 저작권자에게 있습니다.`\n",
    "- `이 자료는 동의없이 외부로 유출하거나 개인적인 용도로 영리적인 목적을 위해 사용할 수 없습니다.`"
   ]
  },
  {
   "cell_type": "markdown",
   "metadata": {
    "id": "IU0xfmeuPWEq"
   },
   "source": [
    "## GPT 3.5버전 API 실습 [Tool 만들기]\n",
    "### Tool 기능이란?\n",
    "+ GPT 모델의 기본 언어 생성 기능 외에 특정 작업을 수행하기 위해 특별히 설계된 도구를 사용할 수 있도록 해주는 확장 기능. ex) 이미지 생성, 인터넷 검색, 파이썬 코드 실행 등\n",
    "+ GPT 모델은 특정 작업에 대해 더 정확하고 유용한 결과를 제공"
   ]
  },
  {
   "cell_type": "markdown",
   "metadata": {},
   "source": [
    "### 0. 환경변수 설정"
   ]
  },
  {
   "cell_type": "code",
   "execution_count": null,
   "metadata": {},
   "outputs": [],
   "source": [
    "# 필요 라이브러리 설치\n",
    "!pip install openai"
   ]
  },
  {
   "cell_type": "code",
   "execution_count": 2,
   "metadata": {},
   "outputs": [],
   "source": [
    "from dotenv import load_dotenv\n",
    "import os\n",
    "\n",
    "load_dotenv()\n",
    "\n",
    "#API-KEY 설정\n",
    "OPENAI_API_KEY = os.environ['OPENAI_API_KEY']\n",
    "#모델 설정\n",
    "GPT_MODEL = 'gpt-3.5-turbo'"
   ]
  },
  {
   "cell_type": "markdown",
   "metadata": {
    "id": "BO_18U8dQ7Wx"
   },
   "source": [
    "### 1. 실시간 기상 정보를 알려주는 chatbot 만들기\n",
    "+ 날씨 호출 tool 만들기"
   ]
  },
  {
   "cell_type": "code",
   "execution_count": 3,
   "metadata": {
    "id": "pOUEmEydPB7Q"
   },
   "outputs": [],
   "source": [
    "import json\n",
    "from openai import OpenAI\n",
    "\n",
    "client = OpenAI(api_key=OPENAI_API_KEY)\n",
    "\n",
    "#GPT API호출 및 응답 가져오기\n",
    "def chat_completion_request(messages, tools=None, tool_choice=None, model=GPT_MODEL):\n",
    "    try:\n",
    "        response = client.chat.completions.create(\n",
    "            model=model,\n",
    "            messages=messages,\n",
    "            tools=tools,\n",
    "            tool_choice=tool_choice,\n",
    "        )\n",
    "        return response\n",
    "    except Exception as e:\n",
    "        print(\"Unable to generate ChatCompletion response\")\n",
    "        print(f\"Exception: {e}\")\n",
    "        return e\n"
   ]
  },
  {
   "cell_type": "code",
   "execution_count": 4,
   "metadata": {
    "id": "-sjlGY0zR-VC"
   },
   "outputs": [
    {
     "name": "stdout",
     "output_type": "stream",
     "text": [
      "{'날씨': '눈', '기온': 80.8, '단위': 'fahrenheit'}\n",
      "[{'일차': 1, '날씨': '폭풍', '기온': 22.0, '단위': 'celsius'}, {'일차': 2, '날씨': '눈', '기온': 5.6, '단위': 'celsius'}, {'일차': 3, '날씨': '비', '기온': 4.9, '단위': 'celsius'}, {'일차': 4, '날씨': '눈', '기온': -0.2, '단위': 'celsius'}, {'일차': 5, '날씨': '눈', '기온': 12.3, '단위': 'celsius'}]\n"
     ]
    }
   ],
   "source": [
    "#Tool 선언\n",
    "tools = [\n",
    "    {\n",
    "        \"type\": \"function\",\n",
    "        \"function\": {\n",
    "            \"name\": \"get_current_weather\",                #함수 이름\n",
    "            \"description\": \"현재 날씨 정보를 가져옵니다\", #함수 설명\n",
    "            \"parameters\": {                               #함수 파라미터 지정\n",
    "                \"type\": \"object\",\n",
    "                \"properties\": {\n",
    "                    \"location\": {                         #파라미터 명\n",
    "                        \"type\": \"string\",                 #파라미터 타입\n",
    "                        \"description\": \"도시 또는 지역을 입력하세요, 예: 서울, 충청도\", #파라미터 설명 및 예시\n",
    "                    },\n",
    "                    \"unit\": {\n",
    "                        \"type\": \"string\",\n",
    "                        \"enum\": [\"celsius\", \"fahrenheit\"],\n",
    "                        \"description\": \"사용할 온도 단위를 입력하세요. 사용자의 위치에 따라 추론됩니다. 예를 들어 대한민국의 도시들은 섭씨 온도입니다.\",\n",
    "                    },\n",
    "                },\n",
    "                \"required\": [\"location\", \"unit\"],         #필수 파라미터 지정\n",
    "            },\n",
    "        }\n",
    "    },\n",
    "    {\n",
    "        \"type\": \"function\",\n",
    "        \"function\": {\n",
    "            \"name\": \"get_n_day_weather_forecast\",\n",
    "            \"description\": \"현재 날짜부터 N일 간의 날씨 예보를 가져옵니다\",\n",
    "            \"parameters\": {\n",
    "                \"type\": \"object\",\n",
    "                \"properties\": {\n",
    "                    \"location\": {\n",
    "                        \"type\": \"string\",\n",
    "                        \"description\": \"도시 또는 지역을 입력하세요, 예: 서울, 충청도\",\n",
    "                    },\n",
    "                    \"unit\": {\n",
    "                        \"type\": \"string\",\n",
    "                        \"enum\": [\"celsius\", \"fahrenheit\"],\n",
    "                        \"description\": \"사용할 온도 단위를 입력하세요. 사용자의 위치에 따라 추론됩니다. 예를 들어 대한민국의 도시들은 섭씨 온도입니다\",\n",
    "                    },\n",
    "                    \"num_days\": {\n",
    "                        \"type\": \"integer\",\n",
    "                        \"description\": \"예보할 일수를 입력하세요\",\n",
    "                    }\n",
    "                },\n",
    "                \"required\": [\"location\", \"unit\", \"num_days\"]\n",
    "            },\n",
    "        }\n",
    "    },\n",
    "]\n",
    "\n",
    "#함수 구현 (원래는 날씨 API호출 해야하지만 편의상 랜덤하게 지정)\n",
    "import random\n",
    "\n",
    "def get_current_weather(location, unit):\n",
    "\n",
    "    weather_conditions = [\"맑음\", \"흐림\", \"비\", \"눈\", \"안개\", \"폭풍\"]\n",
    "    weather = random.choice(weather_conditions)\n",
    "    temperature = round(random.uniform(-10, 35), 1) if unit == \"celsius\" else round(random.uniform(14, 95), 1)\n",
    "\n",
    "    return str({\"날씨\": weather, \"기온\": temperature, \"단위\": unit})\n",
    "\n",
    "def get_n_day_weather_forecast(location, unit, num_days):\n",
    "\n",
    "    weather_conditions = [\"맑음\", \"흐림\", \"비\", \"눈\", \"안개\", \"폭풍\"]\n",
    "    forecasts = []\n",
    "\n",
    "    for day in range(1, num_days+1):\n",
    "        weather = random.choice(weather_conditions)\n",
    "        temperature = round(random.uniform(-10, 35), 1) if unit == \"celsius\" else round(random.uniform(14, 95), 1)\n",
    "        forecasts.append({\"일차\": day, \"날씨\": weather, \"기온\": temperature, \"단위\": unit})\n",
    "\n",
    "    return str(forecasts)\n",
    "\n",
    "# 예시 호출\n",
    "print(get_current_weather(\"대전\", \"fahrenheit\"))\n",
    "print(get_n_day_weather_forecast(\"서울\", \"celsius\", 5))\n"
   ]
  },
  {
   "cell_type": "markdown",
   "metadata": {
    "id": "inpUoy9B70CG"
   },
   "source": [
    "+ 프롬프트에 따라 어떤 Tool이 호출되는지 확인"
   ]
  },
  {
   "cell_type": "code",
   "execution_count": 9,
   "metadata": {
    "id": "U4r8UijEUBdP"
   },
   "outputs": [
    {
     "name": "stdout",
     "output_type": "stream",
     "text": [
      "ChatCompletionMessage(content='어떤 도시의 날씨 정보를 원하시나요? 예를 들어, \"서울\"이나 \"충청도\"와 같이 구체적인 지역을 말씀해주세요.', refusal=None, role='assistant', audio=None, function_call=None, tool_calls=None)\n"
     ]
    }
   ],
   "source": [
    "messages = []\n",
    "\n",
    "messages.append({\"role\": \"system\", \"content\": \"당신은 기상 정보를 알려주는 챗봇입니다.\"})\n",
    "messages.append({\"role\": \"system\", \"content\": \"사용할 함수의 값에 대해 추측하지 마세요. 사용자의 요청이 모호한 경우 명확히 물어보세요.\"})\n",
    "messages.append({\"role\": \"user\", \"content\": \"오늘 날씨 어때?\"})\n",
    "chat_response = chat_completion_request(\n",
    "    messages, tools=tools\n",
    ")\n",
    "assistant_message = chat_response.choices[0].message\n",
    "print(assistant_message)\n"
   ]
  },
  {
   "cell_type": "code",
   "execution_count": 10,
   "metadata": {
    "id": "BF5pav_rVf2y"
   },
   "outputs": [
    {
     "name": "stdout",
     "output_type": "stream",
     "text": [
      "ChatCompletionMessage(content=None, refusal=None, role='assistant', audio=None, function_call=None, tool_calls=[ChatCompletionMessageToolCall(id='call_MQoR32GoOX6uSflPIOmZG95r', function=Function(arguments='{\"location\":\"서울\",\"unit\":\"celsius\"}', name='get_current_weather'), type='function')])\n"
     ]
    }
   ],
   "source": [
    "messages = []\n",
    "messages.append({\"role\": \"system\", \"content\": \"사용할 함수의 값에 대해 추측하지 마세요. 사용자의 요청이 모호한 경우 명확히 물어보세요.\"})\n",
    "messages.append({\"role\": \"user\", \"content\": \"현재 서울의 날씨를 알고싶어.\"})\n",
    "chat_response = chat_completion_request(\n",
    "    messages, tools=tools\n",
    ")\n",
    "assistant_message = chat_response.choices[0].message\n",
    "messages.append(assistant_message)\n",
    "print(assistant_message)\n"
   ]
  },
  {
   "cell_type": "code",
   "execution_count": 11,
   "metadata": {
    "id": "8hhBhvygVq9T"
   },
   "outputs": [
    {
     "name": "stdout",
     "output_type": "stream",
     "text": [
      "ChatCompletionMessage(content=None, refusal=None, role='assistant', audio=None, function_call=None, tool_calls=[ChatCompletionMessageToolCall(id='call_y1IXQc47GFmqniGD5e11l759', function=Function(arguments='{\"location\":\"대전\",\"unit\":\"celsius\",\"num_days\":5}', name='get_n_day_weather_forecast'), type='function')])\n"
     ]
    }
   ],
   "source": [
    "messages = []\n",
    "messages.append({\"role\": \"system\", \"content\": \"사용할 함수의 값에 대해 추측하지 마세요. 사용자의 요청이 모호한 경우 명확히 물어보세요.\"})\n",
    "messages.append({\"role\": \"user\", \"content\": \"대전 5일간 날씨는 어때?\"})\n",
    "chat_response = chat_completion_request(\n",
    "    messages, tools=tools\n",
    ")\n",
    "assistant_message = chat_response.choices[0].message\n",
    "messages.append(assistant_message)\n",
    "print(assistant_message)\n"
   ]
  },
  {
   "cell_type": "markdown",
   "metadata": {
    "id": "M3BPlwcR78E6"
   },
   "source": [
    "+ 날씨 정보를 제공하는 챗봇"
   ]
  },
  {
   "cell_type": "code",
   "execution_count": 12,
   "metadata": {
    "id": "LJKUvzFOWmbq"
   },
   "outputs": [
    {
     "name": "stdout",
     "output_type": "stream",
     "text": [
      "Assistant: **청주의 현재 기온은 -2.5도이며, 날씨는 안개가 끼었습니다.**\n",
      "Assistant: **청주의 앞으로 5일간 날씨 예보는 다음과 같습니다:**\n",
      "| 일자  | 날씨   | 기온 (°C) |\n",
      "|-------|-------|-----------|\n",
      "| 1일   | 눈     | 17.4      |\n",
      "| 2일   | 비     | 21.6      |\n",
      "| 3일   | 흐림   | 11.3      |\n",
      "| 4일   | 폭풍   | 5.8       |\n",
      "| 5일   | 눈     | -1.7      |\n",
      "Assistant: **죄송합니다. 위치를 말씀해 주시겠어요? 어느 지역의 날씨를 알고 싶으신가요?**\n",
      "Assistant: **서울의 내일 날씨는 눈이며, 기온은 33.3도입니다.**\n"
     ]
    }
   ],
   "source": [
    "from openai import OpenAI\n",
    "client = OpenAI(api_key=OPENAI_API_KEY)\n",
    "\n",
    "messages = [\n",
    "    {\"role\": \"system\", \n",
    "     \"content\":\n",
    "        \"\"\"당신은 날씨 정보를 제공하는 챗봇입니다.\n",
    "        \n",
    "        준수해야 할 규칙:\n",
    "        1. 위치가 불명확할 경우 반드시 사용자에게 확인하세요\n",
    "        2. 온도 단위가 입력되지 않은 경우 단위는 입력된 지역에 따라 추론하세요.\n",
    "        3. 날씨 정보 제공시 온도와 날씨 상태를 자연스러운 문장으로 설명하세요\n",
    "        4. 사용자의 질문이 날씨와 관계없는 경우 정중히 날씨 관련 질문만 답변 가능함을 안내하세요\n",
    "        5. 함수 호출이 아닌 답변의 경우 마크다운 형식으로 정리하세요\n",
    "        \n",
    "        예시 응답:\n",
    "        - \"서울의 현재 기온은 20도이며, 날씨는 맑습니다.\"\n",
    "        - \"서울의 앞으로 3일간 날씨 예보는 다음과 같습니다:\n",
    "            | 일자  | 날씨   | 기온 (°C) |\n",
    "            |-------|-------|-----------|\n",
    "            | 1일   | 눈     | 25.2      |\n",
    "            | 2일   | 안개   | -7.4      |\n",
    "            | 3일   | 맑음   | -1.8      |\"\n",
    "        - \"죄송합니다. 위치를 말씀해 주시겠어요? 어느 지역의 날씨를 알고 싶으신가요?\"\n",
    "        \"\"\"\n",
    "    }\n",
    "]\n",
    "\n",
    "\n",
    "# '종료' 입력 전까지 대화\n",
    "user_input = ''\n",
    "while True:\n",
    "    user_input = input(\"You: \")\n",
    "    if \"종료\" in user_input : break\n",
    "    messages.append({\"role\": \"user\", \"content\": user_input})\n",
    "\n",
    "    chat_response = chat_completion_request(messages, tools)\n",
    "\n",
    "    # 1단계: 함수 호출로 이어질 수 있는 내용을 포함한 프롬프트\n",
    "    # 이 경우, 모델은 사용자가 요청한 질문이 설정한 도구 설명에 부합되는지 확인 후 해당 함수 호출.\n",
    "    assistant_message = chat_response.choices[0].message\n",
    "    messages.append(assistant_message)\n",
    "\n",
    "    # 2단계: 모델의 응답에 도구 호출이 포함되어 있는지 확인합니다.\n",
    "    if assistant_message.tool_calls :\n",
    "        for msg in assistant_message.tool_calls :\n",
    "          # 3단계: 함수를 호출하고 결과를 얻습니다. 결과를 messages 리스트에 추가합니다.\n",
    "          if \"function\" in msg.type:\n",
    "              tool_id = msg.id  #툴 ID\n",
    "              function_call = msg.function #함수 정보 가져오기\n",
    "              function_name = function_call.name  #함수 이름\n",
    "              function_args = json.loads(function_call.arguments) #함수 파라미터\n",
    "\n",
    "              # 실제 함수 호출\n",
    "              if function_name == \"get_n_day_weather_forecast\":\n",
    "                  result = get_n_day_weather_forecast(**function_args)\n",
    "                  # print(\"get_n_day_weather_forecast 호출했습니다.\", result)\n",
    "\n",
    "              elif function_name == \"get_current_weather\":\n",
    "                  result = get_current_weather(**function_args)\n",
    "                  # print(\"get_current_weather 호출했습니다.\", result)\n",
    "              messages.append({\n",
    "                  \"role\": \"tool\",\n",
    "                  \"tool_call_id\": tool_id,\n",
    "                  \"name\": function_name,\n",
    "                  \"content\": result\n",
    "              })\n",
    "        # 4단계: 함수 응답이 추가된 messages 리스트로 GPT API를 호출합니다.\n",
    "        # tool_calls이 호출되면 반드시 해당 id에 대한 응답이 필요합니다.\n",
    "        chat_response = chat_completion_request(messages)\n",
    "\n",
    "    #결과 출력\n",
    "    assistant_reply = chat_response.choices[0].message.content\n",
    "    messages.append({\"role\": \"assistant\", \"content\": assistant_reply})\n",
    "    print(f\"Assistant: {assistant_reply}\")"
   ]
  },
  {
   "cell_type": "markdown",
   "metadata": {
    "id": "P8Gq3Ex5OLBO"
   },
   "source": [
    "---"
   ]
  }
 ],
 "metadata": {
  "colab": {
   "provenance": []
  },
  "kernelspec": {
   "display_name": "base",
   "language": "python",
   "name": "python3"
  },
  "language_info": {
   "codemirror_mode": {
    "name": "ipython",
    "version": 3
   },
   "file_extension": ".py",
   "mimetype": "text/x-python",
   "name": "python",
   "nbconvert_exporter": "python",
   "pygments_lexer": "ipython3",
   "version": "3.12.7"
  }
 },
 "nbformat": 4,
 "nbformat_minor": 0
}
